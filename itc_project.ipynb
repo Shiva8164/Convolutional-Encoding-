{
  "nbformat": 4,
  "nbformat_minor": 0,
  "metadata": {
    "colab": {
      "provenance": [],
      "authorship_tag": "ABX9TyMVhxFrd0ER53yev1XkYVQc",
      "include_colab_link": true
    },
    "kernelspec": {
      "name": "python3",
      "display_name": "Python 3"
    },
    "language_info": {
      "name": "python"
    }
  },
  "cells": [
    {
      "cell_type": "markdown",
      "metadata": {
        "id": "view-in-github",
        "colab_type": "text"
      },
      "source": [
        "<a href=\"https://colab.research.google.com/github/Shiva8164/Convolutional-Encoding-/blob/main/itc_project.ipynb\" target=\"_parent\"><img src=\"https://colab.research.google.com/assets/colab-badge.svg\" alt=\"Open In Colab\"/></a>"
      ]
    },
    {
      "cell_type": "code",
      "source": [
        "def encoded(memory):\n",
        "  x1 = memory[0]^memory[1]^memory[2]\n",
        "  x2 = memory[0]^memory[2]\n",
        "  encode = [x1, x2]\n",
        "  return encode\n",
        "\n",
        "memory = [0, 0, 0]\n",
        "encoded_bits = []\n",
        "binary_input = input(\"Enter the binary data (e.g., 101010): \")\n",
        "while binary_input:\n",
        "    memory[0] = int(binary_input[-1])\n",
        "    print(\"Memory array:\", memory)\n",
        "    encoded_bits.append(encoded(memory))\n",
        "    memory[2], memory[1], memory[0] = memory[1], memory[0], 0\n",
        "    binary_input = binary_input[:-1]\n",
        "while memory!=[0, 0, 0]:\n",
        "    print(\"Memory array:\", memory)\n",
        "    encoded_bits.append(encoded(memory))\n",
        "    memory[2], memory[1], memory[0] = memory[1], memory[0], 0\n",
        "print(\"Memory array:\", memory)\n",
        "print(encoded_bits)\n",
        "array_strings = [\"\".join(map(str, array)) for array in encoded_bits]\n",
        "result_string = \"\".join(array_strings)\n",
        "print(\"Encoded Bits: \", result_string)"
      ],
      "metadata": {
        "colab": {
          "base_uri": "https://localhost:8080/"
        },
        "id": "lC2bfR4NWOGz",
        "outputId": "5d93213e-b04b-41e5-a015-691a5856a52d"
      },
      "execution_count": null,
      "outputs": [
        {
          "output_type": "stream",
          "name": "stdout",
          "text": [
            "Enter the binary data (e.g., 101010): 11010\n",
            "Memory array: [0, 0, 0]\n",
            "Memory array: [1, 0, 0]\n",
            "Memory array: [0, 1, 0]\n",
            "Memory array: [1, 0, 1]\n",
            "Memory array: [1, 1, 0]\n",
            "Memory array: [0, 1, 1]\n",
            "Memory array: [0, 0, 1]\n",
            "Memory array: [0, 0, 0]\n",
            "[[0, 0], [1, 1], [1, 0], [0, 0], [0, 1], [0, 1], [1, 1]]\n",
            "Encoded Bits:  00111000010111\n"
          ]
        }
      ]
    }
  ]
}